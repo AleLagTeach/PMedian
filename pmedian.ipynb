{
 "cells": [
  {
   "cell_type": "code",
   "execution_count": 1,
   "id": "38d4e53d-e045-40bf-9db8-d0339ff722fe",
   "metadata": {},
   "outputs": [
    {
     "name": "stdout",
     "output_type": "stream",
     "text": [
      "Requirement already satisfied: numpy in c:\\program files\\anaconda\\lib\\site-packages (1.20.3)Note: you may need to restart the kernel to use updated packages.\n",
      "\n"
     ]
    }
   ],
   "source": [
    "pip install numpy"
   ]
  },
  {
   "cell_type": "code",
   "execution_count": 2,
   "id": "7fb01fce-dfb8-40d0-ad63-285fbbdcf478",
   "metadata": {},
   "outputs": [
    {
     "name": "stdout",
     "output_type": "stream",
     "text": [
      "Requirement already satisfied: matplotlib in c:\\users\\claud\\anaconda3\\lib\\site-packages (3.5.1)\n",
      "Requirement already satisfied: numpy>=1.17 in c:\\users\\claud\\anaconda3\\lib\\site-packages (from matplotlib) (1.21.5)\n",
      "Requirement already satisfied: kiwisolver>=1.0.1 in c:\\users\\claud\\anaconda3\\lib\\site-packages (from matplotlib) (1.3.2)\n",
      "Requirement already satisfied: cycler>=0.10 in c:\\users\\claud\\anaconda3\\lib\\site-packages (from matplotlib) (0.11.0)\n",
      "Requirement already satisfied: fonttools>=4.22.0 in c:\\users\\claud\\anaconda3\\lib\\site-packages (from matplotlib) (4.25.0)\n",
      "Requirement already satisfied: pyparsing>=2.2.1 in c:\\users\\claud\\anaconda3\\lib\\site-packages (from matplotlib) (3.0.4)\n",
      "Requirement already satisfied: pillow>=6.2.0 in c:\\users\\claud\\anaconda3\\lib\\site-packages (from matplotlib) (9.0.1)\n",
      "Requirement already satisfied: packaging>=20.0 in c:\\users\\claud\\anaconda3\\lib\\site-packages (from matplotlib) (21.3)\n",
      "Requirement already satisfied: python-dateutil>=2.7 in c:\\users\\claud\\anaconda3\\lib\\site-packages (from matplotlib) (2.8.2)\n",
      "Requirement already satisfied: six>=1.5 in c:\\users\\claud\\anaconda3\\lib\\site-packages (from python-dateutil>=2.7->matplotlib) (1.16.0)\n",
      "Note: you may need to restart the kernel to use updated packages.\n"
     ]
    }
   ],
   "source": [
    "pip install matplotlib"
   ]
  },
  {
   "cell_type": "code",
   "execution_count": 65,
   "id": "1adfb65d-3eb4-4ead-8e57-f51cc4485a29",
   "metadata": {},
   "outputs": [
    {
     "name": "stdout",
     "output_type": "stream",
     "text": [
      "Requirement already satisfied: pandas in c:\\users\\claud\\anaconda3\\lib\\site-packages (1.4.2)\n",
      "Requirement already satisfied: numpy>=1.18.5 in c:\\users\\claud\\anaconda3\\lib\\site-packages (from pandas) (1.21.5)\n",
      "Requirement already satisfied: python-dateutil>=2.8.1 in c:\\users\\claud\\anaconda3\\lib\\site-packages (from pandas) (2.8.2)\n",
      "Requirement already satisfied: pytz>=2020.1 in c:\\users\\claud\\anaconda3\\lib\\site-packages (from pandas) (2021.3)\n",
      "Requirement already satisfied: six>=1.5 in c:\\users\\claud\\anaconda3\\lib\\site-packages (from python-dateutil>=2.8.1->pandas) (1.16.0)\n",
      "Note: you may need to restart the kernel to use updated packages.\n"
     ]
    }
   ],
   "source": [
    "pip install pandas"
   ]
  },
  {
   "cell_type": "code",
   "execution_count": 66,
   "id": "79b55b1c",
   "metadata": {},
   "outputs": [
    {
     "name": "stdout",
     "output_type": "stream",
     "text": [
      "Collecting package metadata (current_repodata.json): ...working... done\n",
      "Solving environment: ...working... done\n",
      "\n",
      "# All requested packages already installed.\n",
      "\n",
      "Retrieving notices: ...working... done\n",
      "\n",
      "Note: you may need to restart the kernel to use updated packages.\n"
     ]
    }
   ],
   "source": [
    "conda install -c gurobi gurobi"
   ]
  },
  {
   "cell_type": "code",
   "execution_count": 2,
   "id": "c4632e3c-afa1-4b6f-ab32-2441d669b9a0",
   "metadata": {},
   "outputs": [],
   "source": [
    "import numpy as np\n",
    "import matplotlib.pyplot as plt\n",
    "import pandas as pd"
   ]
  },
  {
   "cell_type": "code",
   "execution_count": 3,
   "id": "2c1c01bf-cf4b-449d-94ab-fd8a1a6a2767",
   "metadata": {},
   "outputs": [
    {
     "data": {
      "text/html": [
       "<div>\n",
       "<style scoped>\n",
       "    .dataframe tbody tr th:only-of-type {\n",
       "        vertical-align: middle;\n",
       "    }\n",
       "\n",
       "    .dataframe tbody tr th {\n",
       "        vertical-align: top;\n",
       "    }\n",
       "\n",
       "    .dataframe thead th {\n",
       "        text-align: right;\n",
       "    }\n",
       "</style>\n",
       "<table border=\"1\" class=\"dataframe\">\n",
       "  <thead>\n",
       "    <tr style=\"text-align: right;\">\n",
       "      <th></th>\n",
       "      <th>CUSTOMER</th>\n",
       "      <th>XCOORD</th>\n",
       "      <th>YCOORD</th>\n",
       "      <th>DEMAND</th>\n",
       "    </tr>\n",
       "  </thead>\n",
       "  <tbody>\n",
       "    <tr>\n",
       "      <th>0</th>\n",
       "      <td>1</td>\n",
       "      <td>45.96185</td>\n",
       "      <td>9.48839</td>\n",
       "      <td>12</td>\n",
       "    </tr>\n",
       "    <tr>\n",
       "      <th>1</th>\n",
       "      <td>2</td>\n",
       "      <td>46.04247</td>\n",
       "      <td>9.75783</td>\n",
       "      <td>13</td>\n",
       "    </tr>\n",
       "    <tr>\n",
       "      <th>2</th>\n",
       "      <td>3</td>\n",
       "      <td>45.97670</td>\n",
       "      <td>10.07397</td>\n",
       "      <td>4</td>\n",
       "    </tr>\n",
       "    <tr>\n",
       "      <th>3</th>\n",
       "      <td>4</td>\n",
       "      <td>46.02437</td>\n",
       "      <td>10.01440</td>\n",
       "      <td>3</td>\n",
       "    </tr>\n",
       "    <tr>\n",
       "      <th>4</th>\n",
       "      <td>5</td>\n",
       "      <td>45.97216</td>\n",
       "      <td>9.96527</td>\n",
       "      <td>7</td>\n",
       "    </tr>\n",
       "  </tbody>\n",
       "</table>\n",
       "</div>"
      ],
      "text/plain": [
       "   CUSTOMER    XCOORD    YCOORD  DEMAND\n",
       "0         1  45.96185   9.48839      12\n",
       "1         2  46.04247   9.75783      13\n",
       "2         3  45.97670  10.07397       4\n",
       "3         4  46.02437  10.01440       3\n",
       "4         5  45.97216   9.96527       7"
      ]
     },
     "execution_count": 3,
     "metadata": {},
     "output_type": "execute_result"
    }
   ],
   "source": [
    "dataset=pd.read_csv('customer.csv', sep=\";\") #import the customers' database\n",
    "dataset.head()"
   ]
  },
  {
   "cell_type": "code",
   "execution_count": 4,
   "id": "865eee9a-3f1a-481a-bd0e-b5676fa8ea07",
   "metadata": {},
   "outputs": [],
   "source": [
    "n=len(dataset) #number of clients"
   ]
  },
  {
   "cell_type": "code",
   "execution_count": 5,
   "id": "ee23fc68-14be-4fcb-bb2e-3d26c2452d9e",
   "metadata": {},
   "outputs": [
    {
     "data": {
      "text/plain": [
       "15"
      ]
     },
     "execution_count": 5,
     "metadata": {},
     "output_type": "execute_result"
    }
   ],
   "source": [
    "n"
   ]
  },
  {
   "cell_type": "code",
   "execution_count": 6,
   "id": "9b4e3014-f367-4a4d-af44-641ba351fe54",
   "metadata": {},
   "outputs": [],
   "source": [
    "p=2 #number of facilities to open"
   ]
  },
  {
   "cell_type": "code",
   "execution_count": 7,
   "id": "61ae5a04-5dd6-4fe5-840c-e2a7ae322353",
   "metadata": {},
   "outputs": [],
   "source": [
    "N = [i for i in range(0, n)] #number of customers"
   ]
  },
  {
   "cell_type": "code",
   "execution_count": 8,
   "id": "8103bfa9-fe87-488f-8deb-6edb4bd7a3af",
   "metadata": {},
   "outputs": [
    {
     "data": {
      "text/plain": [
       "[0, 1, 2, 3, 4, 5, 6, 7, 8, 9, 10, 11, 12, 13, 14]"
      ]
     },
     "execution_count": 8,
     "metadata": {},
     "output_type": "execute_result"
    }
   ],
   "source": [
    "N"
   ]
  },
  {
   "cell_type": "code",
   "execution_count": 9,
   "id": "70c3067a-4789-4121-a693-08ee23017f03",
   "metadata": {},
   "outputs": [],
   "source": [
    "dataset2=pd.read_csv('facility.csv', sep=\";\") #import the dataset regarding the possible facilities\n",
    "m=len(dataset2) #number of available facilities"
   ]
  },
  {
   "cell_type": "code",
   "execution_count": 10,
   "id": "ada37658",
   "metadata": {},
   "outputs": [
    {
     "data": {
      "text/html": [
       "<div>\n",
       "<style scoped>\n",
       "    .dataframe tbody tr th:only-of-type {\n",
       "        vertical-align: middle;\n",
       "    }\n",
       "\n",
       "    .dataframe tbody tr th {\n",
       "        vertical-align: top;\n",
       "    }\n",
       "\n",
       "    .dataframe thead th {\n",
       "        text-align: right;\n",
       "    }\n",
       "</style>\n",
       "<table border=\"1\" class=\"dataframe\">\n",
       "  <thead>\n",
       "    <tr style=\"text-align: right;\">\n",
       "      <th></th>\n",
       "      <th>FACILITY</th>\n",
       "      <th>XCOORD</th>\n",
       "      <th>YCOORD</th>\n",
       "    </tr>\n",
       "  </thead>\n",
       "  <tbody>\n",
       "    <tr>\n",
       "      <th>0</th>\n",
       "      <td>A</td>\n",
       "      <td>45.87190</td>\n",
       "      <td>9.65397</td>\n",
       "    </tr>\n",
       "    <tr>\n",
       "      <th>1</th>\n",
       "      <td>B</td>\n",
       "      <td>45.88900</td>\n",
       "      <td>9.91917</td>\n",
       "    </tr>\n",
       "    <tr>\n",
       "      <th>2</th>\n",
       "      <td>C</td>\n",
       "      <td>45.90737</td>\n",
       "      <td>10.03455</td>\n",
       "    </tr>\n",
       "    <tr>\n",
       "      <th>3</th>\n",
       "      <td>D</td>\n",
       "      <td>45.73153</td>\n",
       "      <td>9.72567</td>\n",
       "    </tr>\n",
       "    <tr>\n",
       "      <th>4</th>\n",
       "      <td>E</td>\n",
       "      <td>45.82182</td>\n",
       "      <td>9.59426</td>\n",
       "    </tr>\n",
       "  </tbody>\n",
       "</table>\n",
       "</div>"
      ],
      "text/plain": [
       "  FACILITY    XCOORD    YCOORD\n",
       "0        A  45.87190   9.65397\n",
       "1        B  45.88900   9.91917\n",
       "2        C  45.90737  10.03455\n",
       "3        D  45.73153   9.72567\n",
       "4        E  45.82182   9.59426"
      ]
     },
     "execution_count": 10,
     "metadata": {},
     "output_type": "execute_result"
    }
   ],
   "source": [
    "dataset2.head()"
   ]
  },
  {
   "cell_type": "code",
   "execution_count": 11,
   "id": "9d51a308-8af6-4680-a254-0cf8becd4d60",
   "metadata": {},
   "outputs": [],
   "source": [
    "M = [i for i in range(0, m)] "
   ]
  },
  {
   "cell_type": "code",
   "execution_count": 12,
   "id": "95857acd-3b55-4ba8-90ca-381150fd4514",
   "metadata": {},
   "outputs": [
    {
     "data": {
      "text/plain": [
       "[0, 1, 2, 3, 4, 5]"
      ]
     },
     "execution_count": 12,
     "metadata": {},
     "output_type": "execute_result"
    }
   ],
   "source": [
    "M"
   ]
  },
  {
   "cell_type": "code",
   "execution_count": 13,
   "id": "ed93d277-0e40-4c34-8ea9-c9d205422b7d",
   "metadata": {},
   "outputs": [],
   "source": [
    "q={i: dataset.iloc[i]['DEMAND'] for i in N} #extraction of customer demand\n",
    "#q = {i: rnd.randint(1, 10) for i in N}"
   ]
  },
  {
   "cell_type": "code",
   "execution_count": 14,
   "id": "350fe48d-31aa-4859-b044-3b9403f21465",
   "metadata": {},
   "outputs": [
    {
     "data": {
      "text/plain": [
       "{0: 12.0,\n",
       " 1: 13.0,\n",
       " 2: 4.0,\n",
       " 3: 3.0,\n",
       " 4: 7.0,\n",
       " 5: 14.0,\n",
       " 6: 6.0,\n",
       " 7: 11.0,\n",
       " 8: 12.0,\n",
       " 9: 2.0,\n",
       " 10: 3.0,\n",
       " 11: 2.0,\n",
       " 12: 4.0,\n",
       " 13: 4.0,\n",
       " 14: 3.0}"
      ]
     },
     "execution_count": 14,
     "metadata": {},
     "output_type": "execute_result"
    }
   ],
   "source": [
    "q"
   ]
  },
  {
   "cell_type": "code",
   "execution_count": 15,
   "id": "706bf7e1-24e6-4d92-abc0-e35152f1cffa",
   "metadata": {},
   "outputs": [],
   "source": [
    "xc = dataset['XCOORD'].tolist() #extract locations\n",
    "yc = dataset['YCOORD'].tolist()"
   ]
  },
  {
   "cell_type": "code",
   "execution_count": 16,
   "id": "a0808976-278f-4e11-afac-c68c5e766397",
   "metadata": {},
   "outputs": [
    {
     "data": {
      "text/plain": [
       "[45.96185,\n",
       " 46.04247,\n",
       " 45.9767,\n",
       " 46.02437,\n",
       " 45.97216,\n",
       " 46.00854,\n",
       " 45.8864,\n",
       " 45.93136,\n",
       " 45.78389,\n",
       " 45.9849,\n",
       " 45.8824,\n",
       " 45.92231,\n",
       " 45.82079,\n",
       " 45.95756,\n",
       " 45.7976]"
      ]
     },
     "execution_count": 16,
     "metadata": {},
     "output_type": "execute_result"
    }
   ],
   "source": [
    "xc"
   ]
  },
  {
   "cell_type": "code",
   "execution_count": 17,
   "id": "2cba6c7d-5298-4335-9665-d44b096b9f09",
   "metadata": {},
   "outputs": [
    {
     "data": {
      "text/plain": [
       "[9.48839,\n",
       " 9.75783,\n",
       " 10.07397,\n",
       " 10.0144,\n",
       " 9.96527,\n",
       " 10.16354,\n",
       " 10.09187,\n",
       " 10.08434,\n",
       " 9.75608,\n",
       " 9.71943,\n",
       " 9.77693,\n",
       " 9.58228,\n",
       " 9.79811,\n",
       " 9.82459,\n",
       " 9.52964]"
      ]
     },
     "execution_count": 17,
     "metadata": {},
     "output_type": "execute_result"
    }
   ],
   "source": [
    "yc"
   ]
  },
  {
   "cell_type": "code",
   "execution_count": 18,
   "id": "ed53aa80-0f45-4726-a6a5-86d1d908cb04",
   "metadata": {},
   "outputs": [],
   "source": [
    "xf = dataset2['XCOORD'].tolist() #extract locations of the facilities\n",
    "yf = dataset2['YCOORD'].tolist()"
   ]
  },
  {
   "cell_type": "code",
   "execution_count": 19,
   "id": "e1eb4d20-27a2-4f6c-8f1d-ecd52f8a0977",
   "metadata": {},
   "outputs": [
    {
     "data": {
      "text/plain": [
       "<matplotlib.collections.PathCollection at 0x218d93b14f0>"
      ]
     },
     "execution_count": 19,
     "metadata": {},
     "output_type": "execute_result"
    },
    {
     "data": {
      "image/png": "[encoded data removed]",
      "text/plain": [
       "<Figure size 432x288 with 1 Axes>"
      ]
     },
     "metadata": {
      "needs_background": "light"
     },
     "output_type": "display_data"
    }
   ],
   "source": [
    "#plt.plot(xc[0], yc[0], c='r', marker='s')\n",
    "plt.scatter(xc[0:], yc[0:], c='b')\n",
    "plt.scatter(xf[0:], yf[0:], c='r')"
   ]
  },
  {
   "cell_type": "code",
   "execution_count": 20,
   "id": "66c80ecf-0b4f-4511-9b24-ea0639b63516",
   "metadata": {},
   "outputs": [],
   "source": [
    "A = [(i, j) for i in N for j in M]\n",
    "Y = [(j) for j in M]\n"
   ]
  },
  {
   "cell_type": "code",
   "execution_count": 21,
   "id": "19936299",
   "metadata": {},
   "outputs": [],
   "source": [
    "from numpy import sin, cos, arccos, pi, round\n",
    "\n",
    "def rad2deg(radians):\n",
    "    degrees = radians * 180 / pi\n",
    "    return degrees\n",
    "\n",
    "def deg2rad(degrees):\n",
    "    radians = degrees * pi / 180\n",
    "    return radians\n",
    "\n",
    "def getDistanceBetweenPointsNew(latitude1, longitude1, latitude2, longitude2, unit = 'kilometers'):\n",
    "    \n",
    "    theta = longitude1 - longitude2\n",
    "    \n",
    "    distance = 60 * 1.1515 * rad2deg(\n",
    "        arccos(\n",
    "            (sin(deg2rad(latitude1)) * sin(deg2rad(latitude2))) + \n",
    "            (cos(deg2rad(latitude1)) * cos(deg2rad(latitude2)) * cos(deg2rad(theta)))\n",
    "        )\n",
    "    )\n",
    "    \n",
    "    if unit == 'miles':\n",
    "        return round(distance, 2)\n",
    "    if unit == 'kilometers':\n",
    "        return round(distance * 1.609344, 2)"
   ]
  },
  {
   "cell_type": "code",
   "execution_count": 22,
   "id": "b0e86a62",
   "metadata": {},
   "outputs": [],
   "source": [
    "c = {(i, j): getDistanceBetweenPointsNew(xc[i], yc[i], xf[j], yf[j], 'kilometers') for i in N for j in M}\n",
    " #distance between customers and facilities"
   ]
  },
  {
   "cell_type": "code",
   "execution_count": 23,
   "id": "9385b877",
   "metadata": {},
   "outputs": [
    {
     "data": {
      "text/plain": [
       "{(0, 0): 16.25,\n",
       " (0, 1): 34.29,\n",
       " (0, 2): 42.67,\n",
       " (0, 3): 31.52,\n",
       " (0, 4): 17.59,\n",
       " (0, 5): 32.73,\n",
       " (1, 0): 20.59,\n",
       " (1, 1): 21.13,\n",
       " (1, 2): 26.13,\n",
       " (1, 3): 34.66,\n",
       " (1, 4): 27.6,\n",
       " (1, 5): 25.93,\n",
       " (2, 0): 34.51,\n",
       " (2, 1): 15.44,\n",
       " (2, 2): 8.29,\n",
       " (2, 3): 38.35,\n",
       " (2, 4): 40.92,\n",
       " (2, 5): 24.08,\n",
       " (3, 0): 32.62,\n",
       " (3, 1): 16.76,\n",
       " (3, 2): 13.1,\n",
       " (3, 3): 39.49,\n",
       " (3, 4): 39.54,\n",
       " (3, 5): 25.7,\n",
       " (4, 0): 26.53,\n",
       " (4, 1): 9.91,\n",
       " (4, 2): 8.98,\n",
       " (4, 3): 32.56,\n",
       " (4, 4): 33.22,\n",
       " (4, 5): 18.8,\n",
       " (5, 0): 42.23,\n",
       " (5, 1): 23.1,\n",
       " (5, 2): 15.03,\n",
       " (5, 3): 45.8,\n",
       " (5, 4): 48.69,\n",
       " (5, 5): 31.53,\n",
       " (6, 0): 33.93,\n",
       " (6, 1): 13.37,\n",
       " (6, 2): 5.01,\n",
       " (6, 3): 33.2,\n",
       " (6, 4): 39.2,\n",
       " (6, 5): 19.49,\n",
       " (7, 0): 33.95,\n",
       " (7, 1): 13.62,\n",
       " (7, 2): 4.68,\n",
       " (7, 3): 35.58,\n",
       " (7, 4): 39.84,\n",
       " (7, 5): 21.39,\n",
       " (8, 0): 12.58,\n",
       " (8, 1): 17.21,\n",
       " (8, 2): 25.57,\n",
       " (8, 3): 6.28,\n",
       " (8, 4): 13.23,\n",
       " (8, 5): 8.93,\n",
       " (9, 0): 13.55,\n",
       " (9, 1): 18.77,\n",
       " (9, 2): 25.84,\n",
       " (9, 3): 28.18,\n",
       " (9, 4): 20.56,\n",
       " (9, 5): 21.27,\n",
       " (10, 0): 9.59,\n",
       " (10, 1): 11.03,\n",
       " (10, 2): 20.13,\n",
       " (10, 3): 17.24,\n",
       " (10, 4): 15.67,\n",
       " (10, 5): 9.4,\n",
       " (11, 0): 7.89,\n",
       " (11, 1): 26.33,\n",
       " (11, 2): 35.03,\n",
       " (11, 3): 23.95,\n",
       " (11, 4): 11.21,\n",
       " (11, 5): 24.25,\n",
       " (12, 0): 12.53,\n",
       " (12, 1): 12.06,\n",
       " (12, 2): 20.68,\n",
       " (12, 3): 11.4,\n",
       " (12, 4): 15.8,\n",
       " (12, 5): 4.72,\n",
       " (13, 0): 16.28,\n",
       " (13, 1): 10.57,\n",
       " (13, 2): 17.17,\n",
       " (13, 3): 26.27,\n",
       " (13, 4): 23.36,\n",
       " (13, 5): 15.52,\n",
       " (14, 0): 12.69,\n",
       " (14, 1): 31.84,\n",
       " (14, 2): 40.96,\n",
       " (14, 3): 16.89,\n",
       " (14, 4): 5.69,\n",
       " (14, 5): 25.65}"
      ]
     },
     "execution_count": 23,
     "metadata": {},
     "output_type": "execute_result"
    }
   ],
   "source": [
    "c"
   ]
  },
  {
   "cell_type": "code",
   "execution_count": 23,
   "id": "399b320f",
   "metadata": {},
   "outputs": [],
   "source": [
    "#conda install -c gurobi gurobi"
   ]
  },
  {
   "cell_type": "code",
   "execution_count": 24,
   "id": "b868cfb4-8676-4af0-b2e6-4efb5ad31392",
   "metadata": {},
   "outputs": [],
   "source": [
    "#pip install gurobipy"
   ]
  },
  {
   "cell_type": "code",
   "execution_count": 25,
   "id": "a2cde180-32fe-470c-ba97-77c70f15cde0",
   "metadata": {},
   "outputs": [],
   "source": [
    "from gurobipy import Model, GRB, quicksum"
   ]
  },
  {
   "cell_type": "code",
   "execution_count": 26,
   "id": "ba4f90a0-1b3d-40ad-a422-1e72190966ac",
   "metadata": {},
   "outputs": [
    {
     "name": "stdout",
     "output_type": "stream",
     "text": [
      "Set parameter Username\n",
      "Academic license - for non-commercial use only - expires 2023-10-23\n"
     ]
    }
   ],
   "source": [
    "mdl = Model('PMEDIAN')"
   ]
  },
  {
   "cell_type": "code",
   "execution_count": 27,
   "id": "fe8c1b37-a962-4162-805e-b6241c38d893",
   "metadata": {},
   "outputs": [],
   "source": [
    "x = mdl.addVars(A, vtype=GRB.BINARY)\n",
    "y = mdl.addVars(Y, vtype=GRB.BINARY)"
   ]
  },
  {
   "cell_type": "code",
   "execution_count": 28,
   "id": "4a8ceeef-ec51-447c-b5cc-f28146a46c67",
   "metadata": {},
   "outputs": [],
   "source": [
    "mdl.modelSense = GRB.MINIMIZE\n",
    "mdl.setObjective(quicksum(x[i, j]*c[i, j]*q[i] for i, j in A))\n"
   ]
  },
  {
   "cell_type": "code",
   "execution_count": 29,
   "id": "fe647fe3-c4af-4bd3-a9ee-d0d5edd48eca",
   "metadata": {},
   "outputs": [
    {
     "data": {
      "text/plain": [
       "{(0, 0): <gurobi.Constr *Awaiting Model Update*>,\n",
       " (0, 1): <gurobi.Constr *Awaiting Model Update*>,\n",
       " (0, 2): <gurobi.Constr *Awaiting Model Update*>,\n",
       " (0, 3): <gurobi.Constr *Awaiting Model Update*>,\n",
       " (0, 4): <gurobi.Constr *Awaiting Model Update*>,\n",
       " (0, 5): <gurobi.Constr *Awaiting Model Update*>,\n",
       " (1, 0): <gurobi.Constr *Awaiting Model Update*>,\n",
       " (1, 1): <gurobi.Constr *Awaiting Model Update*>,\n",
       " (1, 2): <gurobi.Constr *Awaiting Model Update*>,\n",
       " (1, 3): <gurobi.Constr *Awaiting Model Update*>,\n",
       " (1, 4): <gurobi.Constr *Awaiting Model Update*>,\n",
       " (1, 5): <gurobi.Constr *Awaiting Model Update*>,\n",
       " (2, 0): <gurobi.Constr *Awaiting Model Update*>,\n",
       " (2, 1): <gurobi.Constr *Awaiting Model Update*>,\n",
       " (2, 2): <gurobi.Constr *Awaiting Model Update*>,\n",
       " (2, 3): <gurobi.Constr *Awaiting Model Update*>,\n",
       " (2, 4): <gurobi.Constr *Awaiting Model Update*>,\n",
       " (2, 5): <gurobi.Constr *Awaiting Model Update*>,\n",
       " (3, 0): <gurobi.Constr *Awaiting Model Update*>,\n",
       " (3, 1): <gurobi.Constr *Awaiting Model Update*>,\n",
       " (3, 2): <gurobi.Constr *Awaiting Model Update*>,\n",
       " (3, 3): <gurobi.Constr *Awaiting Model Update*>,\n",
       " (3, 4): <gurobi.Constr *Awaiting Model Update*>,\n",
       " (3, 5): <gurobi.Constr *Awaiting Model Update*>,\n",
       " (4, 0): <gurobi.Constr *Awaiting Model Update*>,\n",
       " (4, 1): <gurobi.Constr *Awaiting Model Update*>,\n",
       " (4, 2): <gurobi.Constr *Awaiting Model Update*>,\n",
       " (4, 3): <gurobi.Constr *Awaiting Model Update*>,\n",
       " (4, 4): <gurobi.Constr *Awaiting Model Update*>,\n",
       " (4, 5): <gurobi.Constr *Awaiting Model Update*>,\n",
       " (5, 0): <gurobi.Constr *Awaiting Model Update*>,\n",
       " (5, 1): <gurobi.Constr *Awaiting Model Update*>,\n",
       " (5, 2): <gurobi.Constr *Awaiting Model Update*>,\n",
       " (5, 3): <gurobi.Constr *Awaiting Model Update*>,\n",
       " (5, 4): <gurobi.Constr *Awaiting Model Update*>,\n",
       " (5, 5): <gurobi.Constr *Awaiting Model Update*>,\n",
       " (6, 0): <gurobi.Constr *Awaiting Model Update*>,\n",
       " (6, 1): <gurobi.Constr *Awaiting Model Update*>,\n",
       " (6, 2): <gurobi.Constr *Awaiting Model Update*>,\n",
       " (6, 3): <gurobi.Constr *Awaiting Model Update*>,\n",
       " (6, 4): <gurobi.Constr *Awaiting Model Update*>,\n",
       " (6, 5): <gurobi.Constr *Awaiting Model Update*>,\n",
       " (7, 0): <gurobi.Constr *Awaiting Model Update*>,\n",
       " (7, 1): <gurobi.Constr *Awaiting Model Update*>,\n",
       " (7, 2): <gurobi.Constr *Awaiting Model Update*>,\n",
       " (7, 3): <gurobi.Constr *Awaiting Model Update*>,\n",
       " (7, 4): <gurobi.Constr *Awaiting Model Update*>,\n",
       " (7, 5): <gurobi.Constr *Awaiting Model Update*>,\n",
       " (8, 0): <gurobi.Constr *Awaiting Model Update*>,\n",
       " (8, 1): <gurobi.Constr *Awaiting Model Update*>,\n",
       " (8, 2): <gurobi.Constr *Awaiting Model Update*>,\n",
       " (8, 3): <gurobi.Constr *Awaiting Model Update*>,\n",
       " (8, 4): <gurobi.Constr *Awaiting Model Update*>,\n",
       " (8, 5): <gurobi.Constr *Awaiting Model Update*>,\n",
       " (9, 0): <gurobi.Constr *Awaiting Model Update*>,\n",
       " (9, 1): <gurobi.Constr *Awaiting Model Update*>,\n",
       " (9, 2): <gurobi.Constr *Awaiting Model Update*>,\n",
       " (9, 3): <gurobi.Constr *Awaiting Model Update*>,\n",
       " (9, 4): <gurobi.Constr *Awaiting Model Update*>,\n",
       " (9, 5): <gurobi.Constr *Awaiting Model Update*>,\n",
       " (10, 0): <gurobi.Constr *Awaiting Model Update*>,\n",
       " (10, 1): <gurobi.Constr *Awaiting Model Update*>,\n",
       " (10, 2): <gurobi.Constr *Awaiting Model Update*>,\n",
       " (10, 3): <gurobi.Constr *Awaiting Model Update*>,\n",
       " (10, 4): <gurobi.Constr *Awaiting Model Update*>,\n",
       " (10, 5): <gurobi.Constr *Awaiting Model Update*>,\n",
       " (11, 0): <gurobi.Constr *Awaiting Model Update*>,\n",
       " (11, 1): <gurobi.Constr *Awaiting Model Update*>,\n",
       " (11, 2): <gurobi.Constr *Awaiting Model Update*>,\n",
       " (11, 3): <gurobi.Constr *Awaiting Model Update*>,\n",
       " (11, 4): <gurobi.Constr *Awaiting Model Update*>,\n",
       " (11, 5): <gurobi.Constr *Awaiting Model Update*>,\n",
       " (12, 0): <gurobi.Constr *Awaiting Model Update*>,\n",
       " (12, 1): <gurobi.Constr *Awaiting Model Update*>,\n",
       " (12, 2): <gurobi.Constr *Awaiting Model Update*>,\n",
       " (12, 3): <gurobi.Constr *Awaiting Model Update*>,\n",
       " (12, 4): <gurobi.Constr *Awaiting Model Update*>,\n",
       " (12, 5): <gurobi.Constr *Awaiting Model Update*>,\n",
       " (13, 0): <gurobi.Constr *Awaiting Model Update*>,\n",
       " (13, 1): <gurobi.Constr *Awaiting Model Update*>,\n",
       " (13, 2): <gurobi.Constr *Awaiting Model Update*>,\n",
       " (13, 3): <gurobi.Constr *Awaiting Model Update*>,\n",
       " (13, 4): <gurobi.Constr *Awaiting Model Update*>,\n",
       " (13, 5): <gurobi.Constr *Awaiting Model Update*>,\n",
       " (14, 0): <gurobi.Constr *Awaiting Model Update*>,\n",
       " (14, 1): <gurobi.Constr *Awaiting Model Update*>,\n",
       " (14, 2): <gurobi.Constr *Awaiting Model Update*>,\n",
       " (14, 3): <gurobi.Constr *Awaiting Model Update*>,\n",
       " (14, 4): <gurobi.Constr *Awaiting Model Update*>,\n",
       " (14, 5): <gurobi.Constr *Awaiting Model Update*>}"
      ]
     },
     "execution_count": 29,
     "metadata": {},
     "output_type": "execute_result"
    }
   ],
   "source": [
    "mdl.addConstr(quicksum(y[j] for j in M) == p)\n",
    "mdl.addConstrs(quicksum(x[i, j] for j in M) == 1 for i in N)\n",
    "mdl.addConstrs(x[i, j]<=y[j] for i in N for j in M)"
   ]
  },
  {
   "cell_type": "code",
   "execution_count": 30,
   "id": "cda0a2f0-c35d-4f58-b3ab-c3b5b441b765",
   "metadata": {},
   "outputs": [
    {
     "name": "stdout",
     "output_type": "stream",
     "text": [
      "Gurobi Optimizer version 9.5.2 build v9.5.2rc0 (win64)\n",
      "Thread count: 4 physical cores, 8 logical processors, using up to 8 threads\n",
      "Optimize a model with 106 rows, 96 columns and 276 nonzeros\n",
      "Model fingerprint: 0xe75f2fa6\n",
      "Variable types: 0 continuous, 96 integer (96 binary)\n",
      "Coefficient statistics:\n",
      "  Matrix range     [1e+00, 1e+00]\n",
      "  Objective range  [2e+01, 7e+02]\n",
      "  Bounds range     [1e+00, 1e+00]\n",
      "  RHS range        [1e+00, 2e+00]\n",
      "Found heuristic solution: objective 2199.7700000\n",
      "Presolve time: 0.00s\n",
      "Presolved: 106 rows, 96 columns, 276 nonzeros\n",
      "Variable types: 0 continuous, 96 integer (96 binary)\n",
      "Found heuristic solution: objective 2139.6300000\n",
      "\n",
      "Root relaxation: objective 1.265870e+03, 37 iterations, 0.00 seconds (0.00 work units)\n",
      "\n",
      "    Nodes    |    Current Node    |     Objective Bounds      |     Work\n",
      " Expl Unexpl |  Obj  Depth IntInf | Incumbent    BestBd   Gap | It/Node Time\n",
      "\n",
      "*    0     0               0    1265.8700000 1265.87000  0.00%     -    0s\n",
      "\n",
      "Explored 1 nodes (37 simplex iterations) in 0.01 seconds (0.00 work units)\n",
      "Thread count was 8 (of 8 available processors)\n",
      "\n",
      "Solution count 3: 1265.87 2139.63 2199.77 \n",
      "\n",
      "Optimal solution found (tolerance 1.00e-04)\n",
      "Best objective 1.265870000000e+03, best bound 1.265870000000e+03, gap 0.0000%\n"
     ]
    }
   ],
   "source": [
    "#mdl.Params.MIPGap = 0.1\n",
    "#mdl.Params.TimeLimit = 30  # seconds\n",
    "mdl.optimize()"
   ]
  },
  {
   "cell_type": "code",
   "execution_count": 31,
   "id": "c1b3192f-a7b6-4984-96f6-5eba00af976e",
   "metadata": {},
   "outputs": [],
   "source": [
    "active_arcs = [a for a in A if x[a].x > 0.99]"
   ]
  },
  {
   "cell_type": "code",
   "execution_count": 32,
   "id": "3c67a10d-6f6c-4095-b1da-a276f6d4483f",
   "metadata": {},
   "outputs": [
    {
     "data": {
      "text/plain": [
       "[(0, 0),\n",
       " (1, 0),\n",
       " (2, 2),\n",
       " (3, 2),\n",
       " (4, 2),\n",
       " (5, 2),\n",
       " (6, 2),\n",
       " (7, 2),\n",
       " (8, 0),\n",
       " (9, 0),\n",
       " (10, 0),\n",
       " (11, 0),\n",
       " (12, 0),\n",
       " (13, 0),\n",
       " (14, 0)]"
      ]
     },
     "execution_count": 32,
     "metadata": {},
     "output_type": "execute_result"
    }
   ],
   "source": [
    "active_arcs"
   ]
  },
  {
   "cell_type": "code",
   "execution_count": 33,
   "id": "f7913e02-97a8-4ab7-bf65-84f91ef32865",
   "metadata": {},
   "outputs": [
    {
     "data": {
      "text/plain": [
       "<matplotlib.collections.PathCollection at 0x21cd73a89d0>"
      ]
     },
     "execution_count": 33,
     "metadata": {},
     "output_type": "execute_result"
    },
    {
     "data": {
      "image/png": "[encoded data removed]",
      "text/plain": [
       "<Figure size 432x288 with 1 Axes>"
      ]
     },
     "metadata": {
      "needs_background": "light"
     },
     "output_type": "display_data"
    }
   ],
   "source": [
    "for i, j in active_arcs:\n",
    "     plt.plot([xc[i], xf[j]], [yc[i], yf[j]], c='g', zorder=0)\n",
    "plt.scatter(xc[0:], yc[0:], c='b')\n",
    "plt.scatter(xf[0:], yf[0:], c='r')"
   ]
  },
  {
   "cell_type": "code",
   "execution_count": 34,
   "id": "d812bedd",
   "metadata": {},
   "outputs": [],
   "source": [
    "demand_satisfied=0;\n",
    "dist=0;\n",
    "for i in range(n):\n",
    "    for j in range(m):\n",
    "        if ((x[i,j].x>0.99)and(c[i,j]<20)):\n",
    "            demand_satisfied=demand_satisfied+q[i];\n",
    "\n"
   ]
  },
  {
   "cell_type": "code",
   "execution_count": 35,
   "id": "0b9c9200",
   "metadata": {},
   "outputs": [
    {
     "data": {
      "text/plain": [
       "87.0"
      ]
     },
     "execution_count": 35,
     "metadata": {},
     "output_type": "execute_result"
    }
   ],
   "source": [
    "demand_satisfied"
   ]
  },
  {
   "cell_type": "code",
   "execution_count": null,
   "id": "ddf3952b",
   "metadata": {},
   "outputs": [],
   "source": []
  }
 ],
 "metadata": {
  "kernelspec": {
   "display_name": "Python 3 (ipykernel)",
   "language": "python",
   "name": "python3"
  },
  "language_info": {
   "codemirror_mode": {
    "name": "ipython",
    "version": 3
   },
   "file_extension": ".py",
   "mimetype": "text/x-python",
   "name": "python",
   "nbconvert_exporter": "python",
   "pygments_lexer": "ipython3",
   "version": "3.9.7"
  }
 },
 "nbformat": 4,
 "nbformat_minor": 5
}
